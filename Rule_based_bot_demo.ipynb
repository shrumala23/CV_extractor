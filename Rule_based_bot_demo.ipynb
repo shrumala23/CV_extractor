{
  "nbformat": 4,
  "nbformat_minor": 0,
  "metadata": {
    "colab": {
      "provenance": [],
      "authorship_tag": "ABX9TyNbRofbbbflAaxhQ+rtNJo3",
      "include_colab_link": true
    },
    "kernelspec": {
      "name": "python3",
      "display_name": "Python 3"
    },
    "language_info": {
      "name": "python"
    }
  },
  "cells": [
    {
      "cell_type": "markdown",
      "metadata": {
        "id": "view-in-github",
        "colab_type": "text"
      },
      "source": [
        "<a href=\"https://colab.research.google.com/github/shrumala23/CV_extractor/blob/main/Rule_based_bot_demo.ipynb\" target=\"_parent\"><img src=\"https://colab.research.google.com/assets/colab-badge.svg\" alt=\"Open In Colab\"/></a>"
      ]
    },
    {
      "cell_type": "code",
      "execution_count": 4,
      "metadata": {
        "id": "VWuuQuvBT62N"
      },
      "outputs": [],
      "source": [
        "import re\n",
        "import random"
      ]
    },
    {
      "cell_type": "code",
      "source": [
        "class RuleBot:\n",
        "    # Potential negative responses\n",
        "    negative_responses = (\"no\", \"nope\", \"nah\", \"naw\", \"not a chance\", \"sorry\")\n",
        "\n",
        "    # Exit conversation keywords\n",
        "    exit_commands = (\"quit\", \"pause\", \"exit\", \"goodbye\", \"bye\", \"later\")\n",
        "\n",
        "    # Random starter questions\n",
        "    random_questions = (\n",
        "        \"Why are you here?\",\n",
        "        \"Are there many humans like you?\",\n",
        "        \"What do you consume for sustenance?\",\n",
        "        \"Is there intelligent life on this planet?\",\n",
        "        \"Does Earth have a leader?\",\n",
        "        \"What planets have you visited?\",\n",
        "        \"What technology do you have on this planet?\"\n",
        "    )\n",
        "\n",
        "    def __init__(self):\n",
        "        self.alienbabble = {\n",
        "            'describe_planet_intent': r'.*\\s*your planet.*',\n",
        "            'answer_why_intent': r'why\\sare.*',\n",
        "            'about_intellipat': r'.*\\s*intellipaat'\n",
        "        }\n",
        "\n",
        "    def greet(self):\n",
        "        self.name = input(\"What is your name?\\n\")\n",
        "        will_help = input(\n",
        "            f\"Hi {self.name}, I am Rule-Bot. Will you help me learn about your planet?\\n\"\n",
        "        )\n",
        "        if will_help.lower() in self.negative_responses:\n",
        "            print(\"Ok, have a nice Earth day!\")\n",
        "            return\n",
        "        self.chat()\n",
        "\n",
        "    def make_exit(self, reply):\n",
        "        for command in self.exit_commands:\n",
        "            if reply.lower() == command:\n",
        "                print(\"Okay, have a nice Earth day!\")\n",
        "                return True\n",
        "        return False\n",
        "\n",
        "    def chat(self):\n",
        "        reply = input(random.choice(self.random_questions) + \"\\n\").lower()\n",
        "        while not self.make_exit(reply):\n",
        "            reply = input(self.match_reply(reply) + \"\\n\")\n",
        "\n",
        "    def match_reply(self, reply):\n",
        "        for key, value in self.alienbabble.items():\n",
        "            intent = key\n",
        "            regex_pattern = value\n",
        "            found_match = re.match(regex_pattern, reply)\n",
        "            if found_match:\n",
        "                if intent == 'describe_planet_intent':\n",
        "                    return self.describe_planet_intent()\n",
        "                elif intent == 'answer_why_intent':\n",
        "                    return self.answer_why_intent()\n",
        "                elif intent == 'about_intellipat':\n",
        "                    return self.about_intellipat()\n",
        "        return self.no_match_intent()\n",
        "\n",
        "    def describe_planet_intent(self):\n",
        "        responses = (\n",
        "            \"My planet is a utopia of diverse organisms and species.\",\n",
        "            \"I am from Opidipus, the capital of the Wayward Galaxies.\"\n",
        "        )\n",
        "        return random.choice(responses)\n",
        "\n",
        "    def answer_why_intent(self):\n",
        "        responses = (\n",
        "            \"I come in peace.\",\n",
        "            \"I am here to collect data on your planet and its inhabitants.\",\n",
        "            \"I heard the coffee is good.\"\n",
        "        )\n",
        "        return random.choice(responses)\n",
        "\n",
        "    def about_intellipat(self):\n",
        "        responses = (\n",
        "            \"Intellipaat is the world’s largest professional educational company.\",\n",
        "            \"Intellipaat will make you learn concepts in a way never learned before.\",\n",
        "            \"Intellipaat is where your career and skill grows.\"\n",
        "        )\n",
        "        return random.choice(responses)\n",
        "\n",
        "    def no_match_intent(self):\n",
        "        responses = (\n",
        "            \"Please tell me more.\",\n",
        "            \"Tell me more!\",\n",
        "            \"Why do you say that?\",\n",
        "            \"I see. Can you elaborate?\",\n",
        "            \"Interesting. Can you tell me more?\",\n",
        "            \"I see. How do you think?\",\n",
        "            \"Why?\",\n",
        "            \"How do you think I feel when you say that?\"\n",
        "        )\n",
        "        return random.choice(responses)\n",
        "\n",
        "# Create bot instance and greet\n",
        "AlienBot = RuleBot()\n",
        "AlienBot.greet()\n",
        "\n",
        "\n",
        "\n",
        "\n",
        "\n"
      ],
      "metadata": {
        "colab": {
          "base_uri": "https://localhost:8080/"
        },
        "id": "_UeBDL77UhWn",
        "outputId": "d872720b-a2ae-4b02-a54f-a285ecd55d0e"
      },
      "execution_count": null,
      "outputs": [
        {
          "name": "stdout",
          "output_type": "stream",
          "text": [
            "What is your name?\n",
            "Shruti\n",
            "Hi Shruti, I am Rule-Bot. Will you help me learn about your planet?\n",
            "yes\n",
            "Why are you here?\n",
            "for knowing about the planet\n",
            "I see. Can you elaborate?\n",
            "yes\n",
            "I see. Can you elaborate?\n",
            "no\n",
            "Why?\n",
            "I don't know \n",
            "How do you think I feel when you say that?\n",
            "i don't know\n",
            "Please tell me more.\n",
            "python\n",
            "Tell me more!\n",
            "tell me about python\n",
            "Tell me more!\n",
            "tell me about the planet\n",
            "Why?\n",
            "because It is important \n"
          ]
        }
      ]
    }
  ]
}